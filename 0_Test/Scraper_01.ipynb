{
 "cells": [
  {
   "cell_type": "code",
   "execution_count": 84,
   "id": "f22ae9d7",
   "metadata": {},
   "outputs": [],
   "source": [
    "import requests\n",
    "from bs4 import BeautifulSoup\n",
    "from datetime import datetime"
   ]
  },
  {
   "cell_type": "code",
   "execution_count": 85,
   "id": "1fec6d69",
   "metadata": {},
   "outputs": [],
   "source": [
    "url = 'https://sv.wikipedia.org/wiki/Bobby_Fischer'\n",
    "\n",
    "# Hämta innehållet\n",
    "response = requests.get(url)\n",
    "soup = BeautifulSoup(response.text, 'html.parser')"
   ]
  },
  {
   "cell_type": "code",
   "execution_count": 86,
   "id": "f8521207",
   "metadata": {},
   "outputs": [],
   "source": [
    "\n",
    "content_div = soup.find('div', {'id': 'bodyContent'})\n",
    "text = content_div.get_text(separator='\\n', strip=True)\n",
    "\n",
    "lines = text.split('\\n')\n",
    "first_10_lines = lines[:10]\n",
    "\n",
    "now = datetime.now()\n",
    "timestamp = now.strftime(\"Sparad ---------------------------------- %Y-%m-%d kl %H:%M:%S\")\n",
    "\n",
    "# Spara till en textfil\n",
    "with open('wikipedia_text.txt', 'a', encoding='utf-8') as f:\n",
    "    f.write('\\n\\n' + timestamp + '\\n')  # Lägg till tidsstämpel på slutet\n",
    "\n",
    "    for line in first_10_lines:\n",
    "        f.write(line + '\\n')"
   ]
  }
 ],
 "metadata": {
  "kernelspec": {
   "display_name": "Python 3",
   "language": "python",
   "name": "python3"
  },
  "language_info": {
   "codemirror_mode": {
    "name": "ipython",
    "version": 3
   },
   "file_extension": ".py",
   "mimetype": "text/x-python",
   "name": "python",
   "nbconvert_exporter": "python",
   "pygments_lexer": "ipython3",
   "version": "3.11.5"
  }
 },
 "nbformat": 4,
 "nbformat_minor": 5
}
