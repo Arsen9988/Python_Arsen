{
 "cells": [
  {
   "cell_type": "markdown",
   "metadata": {},
   "source": [
    "#1   Lists"
   ]
  },
  {
   "cell_type": "code",
   "execution_count": 16,
   "metadata": {},
   "outputs": [
    {
     "name": "stdout",
     "output_type": "stream",
     "text": [
      "len(colors) = 4\n",
      "colors = ['a', 'd', 'b', 't']\n"
     ]
    }
   ],
   "source": [
    "colors = []\n",
    "while True:\n",
    "    color = input(f'Mata in färger: ')\n",
    "    if not color:\n",
    "        break\n",
    "    else:\n",
    "        colors.append(color)\n",
    "\n",
    "print(f'{len(colors) = }')\n",
    "print(f'{colors = }')"
   ]
  },
  {
   "cell_type": "markdown",
   "metadata": {},
   "source": [
    "#2"
   ]
  },
  {
   "cell_type": "code",
   "execution_count": 30,
   "metadata": {},
   "outputs": [
    {
     "name": "stdout",
     "output_type": "stream",
     "text": [
      "list_1 = ['apple', 'peach', 'pear', 'banon', 'orange']\n",
      "list_2 = ['apple!', 'peach!', 'pear!', 'banon!', 'orange!']\n"
     ]
    }
   ],
   "source": [
    "list_1 = ['apple', 'peach', 'pear', 'banon', 'orange']\n",
    "\n",
    "list_2 = [(i + '!') for i in list_1]\n",
    "#list_2 = [f'{i}!' for i in list_1]\n",
    "\n",
    "print(f'{list_1 = }')\n",
    "print(f'{list_2 = }')\n"
   ]
  },
  {
   "cell_type": "markdown",
   "metadata": {},
   "source": [
    "#3"
   ]
  },
  {
   "cell_type": "code",
   "execution_count": 45,
   "metadata": {},
   "outputs": [
    {
     "name": "stdout",
     "output_type": "stream",
     "text": [
      "[1, 2, 3, 4, 5, 6, 7, 8, 9, 10, 11, 12, 13, 14, 15, 16, 17, 18, 19, 20, 21, 22, 23, 24, 25, 26, 27, 28, 29, 30, 31, 32, 33, 34, 35, 36, 37, 38, 39, 40, 41, 42, 43, 44, 45, 46, 47, 48, 49, 50, 51, 52, 53, 54, 55, 56, 57, 58, 59, 60, 61, 62, 63, 64, 65, 66, 67, 68, 69, 70, 71, 72, 73, 74, 75, 76, 77, 78, 79, 80, 81, 82, 83, 84, 85, 86, 87, 88, 89, 90, 91, 92, 93, 94, 95, 96, 97, 98, 99, 100]\n",
      "[2, 4, 6, 8, 10, 12, 14, 16, 18, 20, 22, 24, 26, 28, 30, 32, 34, 36, 38, 40, 42, 44, 46, 48, 50, 52, 54, 56, 58, 60, 62, 64, 66, 68, 70, 72, 74, 76, 78, 80, 82, 84, 86, 88, 90, 92, 94, 96, 98, 100]\n"
     ]
    }
   ],
   "source": [
    "x = list(range(1,101))\n",
    "print(x)\n",
    "y = [i for i in x if i % 2 == 0]\n",
    "print(y)"
   ]
  },
  {
   "cell_type": "code",
   "execution_count": 46,
   "metadata": {},
   "outputs": [
    {
     "name": "stdout",
     "output_type": "stream",
     "text": [
      "['apple', 'peach', 'pear', 'banon', 'orange']\n",
      "['apple', 'peach', 'banon']\n"
     ]
    }
   ],
   "source": [
    "list_1 = ['apple', 'peach', 'pear', 'banon', 'orange']\n",
    "print(list_1)\n",
    "list_3 = [i for i in list_1 if len(i) == 5]\n",
    "print(list_3)"
   ]
  },
  {
   "cell_type": "markdown",
   "metadata": {},
   "source": [
    "# Filhantering"
   ]
  },
  {
   "cell_type": "markdown",
   "metadata": {},
   "source": [
    "Open fil for reading"
   ]
  },
  {
   "cell_type": "code",
   "execution_count": 33,
   "metadata": {},
   "outputs": [
    {
     "name": "stdout",
     "output_type": "stream",
     "text": [
      "a\n",
      "\n"
     ]
    }
   ],
   "source": [
    "file =  open('..\\Data\\hello.txt')\n",
    "content = file.read()\n",
    "print(content)"
   ]
  },
  {
   "cell_type": "markdown",
   "metadata": {},
   "source": [
    "Open file for writing"
   ]
  },
  {
   "cell_type": "code",
   "execution_count": 32,
   "metadata": {},
   "outputs": [],
   "source": [
    "file =  open('..\\Data\\hello.txt', 'a')\n",
    "new_content = input('Enter: ')\n",
    "\n",
    "file.write(new_content + '\\n')\n",
    "file.close()\n"
   ]
  },
  {
   "cell_type": "markdown",
   "metadata": {},
   "source": [
    "open"
   ]
  },
  {
   "cell_type": "code",
   "execution_count": 30,
   "metadata": {},
   "outputs": [],
   "source": [
    "new_content = input('Enter: ')\n",
    "\n",
    "with open('..\\Data\\hello.txt', 'a') as file:\n",
    "    file.write(new_content + '\\n')"
   ]
  },
  {
   "cell_type": "markdown",
   "metadata": {},
   "source": [
    "# Uppgift filer"
   ]
  },
  {
   "cell_type": "code",
   "execution_count": 38,
   "metadata": {},
   "outputs": [
    {
     "name": "stdout",
     "output_type": "stream",
     "text": [
      "1\n",
      "2\n",
      "3\n",
      "\n",
      "names = []\n"
     ]
    }
   ],
   "source": [
    "with open('..\\Data\\hello.txt', 'r') as file:\n",
    "    print(file.read())\n",
    "\n",
    "names = []\n",
    "while True:\n",
    "    name = input('Enter a name: ')\n",
    "    if not name:\n",
    "        break\n",
    "    else:\n",
    "        names.append(name)\n",
    "        \n",
    "with open('..\\Data\\hello.txt', 'w') as file:\n",
    "    for i in names:\n",
    "        file.write(i + '\\n')\n",
    "        \n",
    "print(f'{names = }')\n",
    "\n"
   ]
  }
 ],
 "metadata": {
  "kernelspec": {
   "display_name": "Python 3",
   "language": "python",
   "name": "python3"
  },
  "language_info": {
   "codemirror_mode": {
    "name": "ipython",
    "version": 3
   },
   "file_extension": ".py",
   "mimetype": "text/x-python",
   "name": "python",
   "nbconvert_exporter": "python",
   "pygments_lexer": "ipython3",
   "version": "3.11.5"
  },
  "orig_nbformat": 4
 },
 "nbformat": 4,
 "nbformat_minor": 2
}
