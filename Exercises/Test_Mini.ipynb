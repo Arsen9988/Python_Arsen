{
 "cells": [
  {
   "cell_type": "markdown",
   "metadata": {},
   "source": [
    "#1   Lists"
   ]
  },
  {
   "cell_type": "code",
   "execution_count": null,
   "metadata": {},
   "outputs": [],
   "source": [
    "colors = []\n",
    "while True:\n",
    "    color = input(f'Mata in färger: ')\n",
    "    if not color:\n",
    "        break\n",
    "    else:\n",
    "        colors.append(color)\n",
    "\n",
    "print(f'{len(colors) = }')\n",
    "print(f'{colors = }')"
   ]
  },
  {
   "cell_type": "markdown",
   "metadata": {},
   "source": [
    "#2"
   ]
  },
  {
   "cell_type": "code",
   "execution_count": null,
   "metadata": {},
   "outputs": [],
   "source": [
    "list_1 = ['apple', 'peach', 'pear', 'banon', 'orange']\n",
    "\n",
    "list_2 = [(i + '!') for i in list_1]\n",
    "#list_2 = [f'{i}!' for i in list_1]\n",
    "\n",
    "print(f'{list_1 = }')\n",
    "print(f'{list_2 = }')\n"
   ]
  },
  {
   "cell_type": "markdown",
   "metadata": {},
   "source": [
    "#3"
   ]
  },
  {
   "cell_type": "code",
   "execution_count": null,
   "metadata": {},
   "outputs": [],
   "source": [
    "x = list(range(1,101))\n",
    "print(x)\n",
    "y = [i for i in x if i % 2 == 0]\n",
    "print(y)"
   ]
  },
  {
   "cell_type": "code",
   "execution_count": null,
   "metadata": {},
   "outputs": [],
   "source": [
    "list_1 = ['apple', 'peach', 'pear', 'banon', 'orange']\n",
    "print(list_1)\n",
    "list_3 = [i for i in list_1 if len(i) == 5]\n",
    "\n",
    "print(list_3)"
   ]
  },
  {
   "cell_type": "markdown",
   "metadata": {},
   "source": [
    "# Filhantering"
   ]
  },
  {
   "cell_type": "markdown",
   "metadata": {},
   "source": [
    "Open fil for reading"
   ]
  },
  {
   "cell_type": "code",
   "execution_count": null,
   "metadata": {},
   "outputs": [],
   "source": [
    "file =  open('..\\Data\\hello.txt')\n",
    "content = file.read()\n",
    "print(content)"
   ]
  },
  {
   "cell_type": "markdown",
   "metadata": {},
   "source": [
    "Open file for writing"
   ]
  },
  {
   "cell_type": "code",
   "execution_count": null,
   "metadata": {},
   "outputs": [],
   "source": [
    "file =  open('..\\Data\\hello.txt', 'a')\n",
    "new_content = input('Enter: ')\n",
    "\n",
    "file.write(new_content + '\\n')\n",
    "file.close()\n"
   ]
  },
  {
   "cell_type": "markdown",
   "metadata": {},
   "source": [
    "open"
   ]
  },
  {
   "cell_type": "code",
   "execution_count": null,
   "metadata": {},
   "outputs": [],
   "source": [
    "new_content = input('Enter: ')\n",
    "\n",
    "with open('..\\Data\\hello.txt', 'a') as file:\n",
    "    file.write(new_content + '\\n')"
   ]
  },
  {
   "cell_type": "markdown",
   "metadata": {},
   "source": [
    "# Uppgift filer"
   ]
  },
  {
   "cell_type": "code",
   "execution_count": null,
   "metadata": {},
   "outputs": [],
   "source": [
    "with open('..\\Data\\hello.txt', 'r') as file:\n",
    "    print(file.read())\n",
    "\n",
    "names = []\n",
    "while True:\n",
    "    name = input('Enter a name: ')\n",
    "    if not name:\n",
    "        break\n",
    "    else:\n",
    "        names.append(name)\n",
    "        \n",
    "with open('..\\Data\\hello.txt', 'w') as file:\n",
    "    for i in names:\n",
    "        file.write(i + '\\n')\n",
    "        \n",
    "print(f'{names = }')\n",
    "\n"
   ]
  },
  {
   "cell_type": "markdown",
   "metadata": {},
   "source": [
    "# Try Except"
   ]
  },
  {
   "cell_type": "code",
   "execution_count": null,
   "metadata": {},
   "outputs": [],
   "source": [
    "while True:\n",
    "    try:\n",
    "        num1 = float(input(\"Ange ett tal: \"))\n",
    "        num2 = float(input(\"Ange ett annat tal: \"))\n",
    "        resultat = num1 / num2\n",
    "        print(\"Resultatet av divisionen är:\", resultat)\n",
    "        break  # Avsluta loopen om allt gick bra\n",
    "    except ZeroDivisionError:\n",
    "        print(\"Du kan inte dela med noll. Försök igen.\")\n",
    "    except ValueError:\n",
    "        print(\"Du måste ange ett giltigt tal. Försök igen.\")"
   ]
  },
  {
   "cell_type": "markdown",
   "metadata": {},
   "source": [
    "# **Debugging**\n",
    "Felsökning och rättning av kod."
   ]
  },
  {
   "cell_type": "code",
   "execution_count": null,
   "metadata": {},
   "outputs": [],
   "source": [
    "a = 5\n",
    "b = 10\n",
    "c = a + b\n",
    "\n",
    "print(c)"
   ]
  },
  {
   "cell_type": "markdown",
   "metadata": {},
   "source": [
    "# Uppgift"
   ]
  },
  {
   "cell_type": "code",
   "execution_count": 3,
   "metadata": {},
   "outputs": [
    {
     "name": "stdout",
     "output_type": "stream",
     "text": [
      "x är inte ett heltal.\n"
     ]
    }
   ],
   "source": [
    "x = 'aaa'  \n",
    "\n",
    "if isinstance(x, int):\n",
    "    print(\"x är ett heltal.\")\n",
    "else:\n",
    "    print(\"x är inte ett heltal.\")"
   ]
  },
  {
   "cell_type": "code",
   "execution_count": 28,
   "metadata": {},
   "outputs": [
    {
     "name": "stdout",
     "output_type": "stream",
     "text": [
      "string = '2953512'\n",
      "\u001b[0m\u001b[34m2953512\u001b[0m\n",
      "\u001b[0m29\u001b[34m535\u001b[0m12\n"
     ]
    }
   ],
   "source": [
    "from colorama import Fore, Back, Style\n",
    "\n",
    "string = input(\"Please enter a string:\")\n",
    "\n",
    "print(f'{string = }')\n",
    "string_prior = \"\"\n",
    "string_after = \"\"\n",
    "\n",
    "for i, character in enumerate(string):\n",
    "    found = 0\n",
    "    if character.isdigit():\n",
    "        j = i + 1\n",
    "        while(j < len(string)):\n",
    "            if not string[j].isdigit():\n",
    "                break\n",
    "            if string[j] == string[i]:\n",
    "                found = 1\n",
    "                break\n",
    "            j += 1\n",
    "            \n",
    "        if i:\n",
    "            string_prior = string[:i]\n",
    "        if j < len(string):\n",
    "            string_after = string[j + 1:]\n",
    "            \n",
    "    if found == 1:\n",
    "        print(f'{Style.RESET_ALL}{string_prior}{Fore.BLUE}{string[i:j+1]}{Style.RESET_ALL}{string_after}')"
   ]
  }
 ],
 "metadata": {
  "kernelspec": {
   "display_name": "Python 3",
   "language": "python",
   "name": "python3"
  },
  "language_info": {
   "codemirror_mode": {
    "name": "ipython",
    "version": 3
   },
   "file_extension": ".py",
   "mimetype": "text/x-python",
   "name": "python",
   "nbconvert_exporter": "python",
   "pygments_lexer": "ipython3",
   "version": "3.11.5"
  },
  "orig_nbformat": 4
 },
 "nbformat": 4,
 "nbformat_minor": 2
}
