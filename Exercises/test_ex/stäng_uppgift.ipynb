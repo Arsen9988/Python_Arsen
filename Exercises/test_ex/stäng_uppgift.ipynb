{
 "cells": [
  {
   "cell_type": "code",
   "execution_count": 7,
   "metadata": {},
   "outputs": [
    {
     "name": "stdout",
     "output_type": "stream",
     "text": [
      "Hello"
     ]
    }
   ],
   "source": [
    "words = 'Hello World'\n",
    "\n",
    "for i in word:\n",
    "    if i == ' ':\n",
    "        break\n",
    "    print(i, end='')\n",
    "  "
   ]
  },
  {
   "cell_type": "code",
   "execution_count": 27,
   "metadata": {},
   "outputs": [
    {
     "name": "stdout",
     "output_type": "stream",
     "text": [
      "This\n",
      "is\n",
      "just\n",
      "some\n",
      "other\n",
      "text"
     ]
    }
   ],
   "source": [
    "my_string = \"This is just some other text\"\n",
    "\n",
    "for char in my_string:\n",
    "    if char == ' ':\n",
    "        print() \n",
    "    else:\n",
    "        print(char, end='')"
   ]
  },
  {
   "cell_type": "code",
   "execution_count": 35,
   "metadata": {},
   "outputs": [
    {
     "name": "stdout",
     "output_type": "stream",
     "text": [
      "*e*t* *r*u*p*i*t*3"
     ]
    }
   ],
   "source": [
    "my_string = \"Detta är uppgift 3\"\n",
    "for i in range(len(my_string)):\n",
    "    if i % 2 == 0:\n",
    "        print('*', end='') \n",
    "    else:\n",
    "        print(my_string[i], end='')"
   ]
  },
  {
   "cell_type": "code",
   "execution_count": 43,
   "metadata": {},
   "outputs": [
    {
     "name": "stdout",
     "output_type": "stream",
     "text": [
      "\u001b[0mH\u001b[0me\u001b[31ml\u001b[31ml\u001b[32mo\u001b[0m \u001b[0mw\u001b[32mo\u001b[0mr\u001b[31ml\u001b[0md\u001b[0m!"
     ]
    }
   ],
   "source": [
    "from colorama import Fore, Back, Style\n",
    "my_string = \"Hello world!\"\n",
    "for char in my_string:\n",
    "    if char == 'o':\n",
    "        print(Fore.GREEN + char, end='',)\n",
    "    elif char =='l':\n",
    "        print(Fore.RED + char, end='',)\n",
    "    else:\n",
    "        print(Style.RESET_ALL + char, end='')\n",
    "\n"
   ]
  },
  {
   "cell_type": "code",
   "execution_count": 64,
   "metadata": {},
   "outputs": [
    {
     "name": "stdout",
     "output_type": "stream",
     "text": [
      "\u001b[0mH\u001b[0me\u001b[0ml\u001b[32mll\u001b[0mo\u001b[0m \u001b[0mm\u001b[0mi\u001b[0ms\u001b[32mss\u001b[0mi\u001b[0mo\u001b[0mn\u001b[0m!"
     ]
    }
   ],
   "source": [
    "# 5555555555555555555555555555555555\n",
    "from colorama import Fore, Back, Style\n",
    "my_string = \"Hello mission!\"\n",
    "for i in range(len(my_string)):\n",
    "    if my_string[i] == my_string[i-1]:\n",
    "        print(Fore.GREEN + my_string[i-1:i+1], end='',)\n",
    "    else:\n",
    "        print(Style.RESET_ALL + my_string[i], end='')\n",
    "        \n",
    "# my_string[i] + my_string[i-1] == my_string[i-1:i+1]"
   ]
  },
  {
   "cell_type": "code",
   "execution_count": 36,
   "metadata": {},
   "outputs": [
    {
     "name": "stdout",
     "output_type": "stream",
     "text": [
      "\u001b[0m \n",
      "\u001b[0mw\n",
      "\u001b[32mo\n",
      "\u001b[31mo\n",
      "\u001b[0mo\n",
      "\u001b[0md\n",
      "\u001b[0m \n",
      "\u001b[0m \n",
      "\u001b[0mw\n",
      "\u001b[32mo\n",
      "\u001b[31mo\n",
      "\u001b[0mo\n",
      "\u001b[0md\n",
      "\u001b[0mc\n",
      "\u001b[0mh\n",
      "\u001b[0mu\n",
      "\u001b[0mc\n",
      "\u001b[0mk\n",
      "\u001b[0m \n",
      "\u001b[0mw\n",
      "\u001b[32mo\n",
      "\u001b[31mo\n",
      "\u001b[0mo\n",
      "\u001b[0md\n"
     ]
    },
    {
     "ename": "IndexError",
     "evalue": "string index out of range",
     "output_type": "error",
     "traceback": [
      "\u001b[1;31m---------------------------------------------------------------------------\u001b[0m",
      "\u001b[1;31mIndexError\u001b[0m                                Traceback (most recent call last)",
      "\u001b[1;32mc:\\Users\\Ars\\Documents\\GitHub\\Python_Arsen\\Exercises\\test_ex\\stäng_uppgift.ipynb Cell 6\u001b[0m line \u001b[0;36m5\n\u001b[0;32m      <a href='vscode-notebook-cell:/c%3A/Users/Ars/Documents/GitHub/Python_Arsen/Exercises/test_ex/st%C3%A4ng_uppgift.ipynb#W5sZmlsZQ%3D%3D?line=2'>3</a>\u001b[0m mini_string \u001b[39m=\u001b[39m \u001b[39m\"\u001b[39m\u001b[39moo\u001b[39m\u001b[39m\"\u001b[39m\n\u001b[0;32m      <a href='vscode-notebook-cell:/c%3A/Users/Ars/Documents/GitHub/Python_Arsen/Exercises/test_ex/st%C3%A4ng_uppgift.ipynb#W5sZmlsZQ%3D%3D?line=3'>4</a>\u001b[0m \u001b[39mfor\u001b[39;00m i \u001b[39min\u001b[39;00m \u001b[39mrange\u001b[39m(\u001b[39mlen\u001b[39m(my_string)):\n\u001b[1;32m----> <a href='vscode-notebook-cell:/c%3A/Users/Ars/Documents/GitHub/Python_Arsen/Exercises/test_ex/st%C3%A4ng_uppgift.ipynb#W5sZmlsZQ%3D%3D?line=4'>5</a>\u001b[0m     \u001b[39mif\u001b[39;00m my_string[i] \u001b[39m+\u001b[39m my_string[i\u001b[39m+\u001b[39;49m\u001b[39m1\u001b[39;49m] \u001b[39m==\u001b[39m mini_string:\n\u001b[0;32m      <a href='vscode-notebook-cell:/c%3A/Users/Ars/Documents/GitHub/Python_Arsen/Exercises/test_ex/st%C3%A4ng_uppgift.ipynb#W5sZmlsZQ%3D%3D?line=5'>6</a>\u001b[0m         \u001b[39mprint\u001b[39m(Fore\u001b[39m.\u001b[39mGREEN \u001b[39m+\u001b[39m my_string[i])\n\u001b[0;32m      <a href='vscode-notebook-cell:/c%3A/Users/Ars/Documents/GitHub/Python_Arsen/Exercises/test_ex/st%C3%A4ng_uppgift.ipynb#W5sZmlsZQ%3D%3D?line=6'>7</a>\u001b[0m         \u001b[39mprint\u001b[39m(Fore\u001b[39m.\u001b[39mRED \u001b[39m+\u001b[39m my_string[i\u001b[39m+\u001b[39m\u001b[39m1\u001b[39m])\n",
      "\u001b[1;31mIndexError\u001b[0m: string index out of range"
     ]
    }
   ],
   "source": [
    "from colorama import Fore, Back, Style\n",
    "my_string = \" wood  woodchuck wood?\"\n",
    "mini_string = \"oo\"\n",
    "for i in range(len(my_string)):\n",
    "    if my_string[i] + my_string[i+1] == mini_string:\n",
    "        print(Fore.GREEN + my_string[i])\n",
    "        print(Fore.RED + my_string[i+1])#??????????????????????????\n",
    "    else:\n",
    "        print(Style.RESET_ALL + my_string[i])"
   ]
  }
 ],
 "metadata": {
  "kernelspec": {
   "display_name": "Python 3",
   "language": "python",
   "name": "python3"
  },
  "language_info": {
   "codemirror_mode": {
    "name": "ipython",
    "version": 3
   },
   "file_extension": ".py",
   "mimetype": "text/x-python",
   "name": "python",
   "nbconvert_exporter": "python",
   "pygments_lexer": "ipython3",
   "version": "3.11.5"
  },
  "orig_nbformat": 4
 },
 "nbformat": 4,
 "nbformat_minor": 2
}
