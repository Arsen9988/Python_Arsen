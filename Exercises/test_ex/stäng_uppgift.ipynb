{
 "cells": [
  {
   "cell_type": "code",
   "execution_count": null,
   "metadata": {},
   "outputs": [],
   "source": [
    "words = 'Hello World'\n",
    "\n",
    "for i in word:\n",
    "    if i == ' ':\n",
    "        break\n",
    "    print(i, end='')\n",
    "  "
   ]
  },
  {
   "cell_type": "code",
   "execution_count": null,
   "metadata": {},
   "outputs": [],
   "source": [
    "my_string = \"This is just some other text\"\n",
    "\n",
    "for char in my_string:\n",
    "    if char == ' ':\n",
    "        print() \n",
    "    else:\n",
    "        print(char, end='')"
   ]
  },
  {
   "cell_type": "code",
   "execution_count": null,
   "metadata": {},
   "outputs": [],
   "source": [
    "my_string = \"Detta är uppgift 3\"\n",
    "for i in range(len(my_string)):\n",
    "    if i % 2 == 0:\n",
    "        print('*', end='') \n",
    "    else:\n",
    "        print(my_string[i], end='')"
   ]
  },
  {
   "cell_type": "code",
   "execution_count": null,
   "metadata": {},
   "outputs": [],
   "source": [
    "from colorama import Fore, Back, Style\n",
    "my_string = \"Hello world!\"\n",
    "for char in my_string:\n",
    "    if char == 'o':\n",
    "        print(Fore.GREEN + char, end='',)\n",
    "    elif char =='l':\n",
    "        print(Fore.RED + char, end='',)\n",
    "    else:\n",
    "        print(Style.RESET_ALL + char, end='')\n",
    "\n"
   ]
  },
  {
   "cell_type": "code",
   "execution_count": null,
   "metadata": {},
   "outputs": [],
   "source": [
    "# 5555555555555555555555555555555555\n",
    "from colorama import Fore, Back, Style\n",
    "my_string = \"Hello mission!\"\n",
    "for i in range(len(my_string)):\n",
    "\n",
    "    if my_string[i] == my_string[i-1]:\n",
    "        print(Fore.GREEN + my_string[i-1:i+1], end='',)\n",
    "    elif i+1 < len(my_string) and my_string[i] != my_string[i+1]:\n",
    "            print(Style.RESET_ALL + my_string[i], end='')\n",
    "        \n",
    "# my_string[i] + my_string[i-1] == my_string[i-1:i+1]"
   ]
  },
  {
   "cell_type": "code",
   "execution_count": null,
   "metadata": {},
   "outputs": [],
   "source": [
    "my_string = \"much wood woodchuck wood?\"\n",
    "oo = 'oo'\n",
    "for i in range(len(my_string)):\n",
    "    if my_string[i-1:i+1] == oo:\n",
    "        print(Fore.GREEN + my_string[i-1])\n",
    "        print(my_string[i])\n",
    "    elif i+1 < len(my_string) and my_string[i] != my_string[i+1]:\n",
    "            print(Style.RESET_ALL + my_string[i])"
   ]
  },
  {
   "cell_type": "code",
   "execution_count": 7,
   "metadata": {},
   "outputs": [
    {
     "name": "stdout",
     "output_type": "stream",
     "text": [
      "How much wood would a wood\u001b[32mchuck\u001b[0m \u001b[32mchuck\u001b[0m if a wood\u001b[32mchuck\u001b[0m could \u001b[32mchuck\u001b[0m wood\n"
     ]
    }
   ],
   "source": [
    "from colorama import Fore, Style\n",
    "\n",
    "my_string = 'How much wood would a woodchuck chuck if a woodchuck could chuck wood'\n",
    "chuck = 'chuck'\n",
    "\n",
    "if chuck in my_string:\n",
    "    my_string = my_string.replace(chuck, Fore.GREEN + chuck + Style.RESET_ALL)\n",
    "\n",
    "print(my_string)"
   ]
  },
  {
   "cell_type": "code",
   "execution_count": null,
   "metadata": {},
   "outputs": [],
   "source": [
    "my_string = 'How much wood would a woodchuck chuck if a woodchuck could chuck wood'\n",
    "chuck = input()\n",
    "if chuck in my_string:\n",
    "    my_string = my_string.replace(chuck, Fore.GREEN + chuck + Style.RESET_ALL)\n",
    "\n",
    "print(my_string)"
   ]
  },
  {
   "cell_type": "code",
   "execution_count": 6,
   "metadata": {},
   "outputs": [
    {
     "name": "stdout",
     "output_type": "stream",
     "text": [
      "H\n",
      "ee\n",
      "lll\n",
      "llll\n",
      "ooooo\n",
      "      \n",
      "mmmmmmm\n",
      "iiiiiiii\n",
      "sssssssss\n",
      "ssssssssss\n",
      "iiiiiiiiiii\n",
      "oooooooooooo\n",
      "nnnnnnnnnnnnn\n",
      "!!!!!!!!!!!!!!\n"
     ]
    }
   ],
   "source": [
    "my_string = \"Hello mission!\"\n",
    "for i in range(len(my_string)):\n",
    "    new_char = my_string[i] * (i + 1)\n",
    "    print(new_char) "
   ]
  },
  {
   "cell_type": "code",
   "execution_count": 5,
   "metadata": {},
   "outputs": [
    {
     "name": "stdout",
     "output_type": "stream",
     "text": [
      "How  0\n",
      "much much  1\n",
      "wood wood wood  2\n",
      "would would would would  3\n",
      "a a a a a  4\n",
      "woodchuck woodchuck woodchuck woodchuck woodchuck woodchuck  5\n",
      "chuck chuck chuck chuck chuck chuck chuck  6\n",
      "if if if if if if if if  7\n",
      "a a a a a a a a a  8\n",
      "woodchuck woodchuck woodchuck woodchuck woodchuck woodchuck woodchuck woodchuck woodchuck woodchuck  9\n",
      "could could could could could could could could could could could  10\n",
      "chuck chuck chuck chuck chuck chuck chuck chuck chuck chuck chuck chuck  11\n",
      "wood wood wood wood wood wood wood wood wood wood wood wood wood  12\n"
     ]
    }
   ],
   "source": [
    "my_string = \"How much wood would a woodchuck chuck if a woodchuck could chuck wood\"\n",
    "words = my_string.split()\n",
    "\n",
    "for i, word in enumerate(words):\n",
    "    new_word = (word + ' ') * (i+1)\n",
    "    print(new_word)"
   ]
  }
 ],
 "metadata": {
  "kernelspec": {
   "display_name": "Python 3",
   "language": "python",
   "name": "python3"
  },
  "language_info": {
   "codemirror_mode": {
    "name": "ipython",
    "version": 3
   },
   "file_extension": ".py",
   "mimetype": "text/x-python",
   "name": "python",
   "nbconvert_exporter": "python",
   "pygments_lexer": "ipython3",
   "version": "3.11.5"
  },
  "orig_nbformat": 4
 },
 "nbformat": 4,
 "nbformat_minor": 2
}
