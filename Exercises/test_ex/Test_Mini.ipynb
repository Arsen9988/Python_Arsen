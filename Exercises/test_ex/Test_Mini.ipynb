{
 "cells": [
  {
   "cell_type": "markdown",
   "metadata": {},
   "source": [
    "#1   Lists"
   ]
  },
  {
   "cell_type": "code",
   "execution_count": null,
   "metadata": {},
   "outputs": [],
   "source": [
    "colors = []\n",
    "while True:\n",
    "    color = input(f'Mata in färger: ')\n",
    "    if not color:\n",
    "        break\n",
    "    else:\n",
    "        colors.append(color)\n",
    "\n",
    "print(f'{len(colors) = }')\n",
    "print(f'{colors = }')"
   ]
  },
  {
   "cell_type": "markdown",
   "metadata": {},
   "source": [
    "#2"
   ]
  },
  {
   "cell_type": "code",
   "execution_count": null,
   "metadata": {},
   "outputs": [],
   "source": [
    "list_1 = ['apple', 'peach', 'pear', 'banon', 'orange']\n",
    "\n",
    "list_2 = [(i + '!') for i in list_1]\n",
    "#list_2 = [f'{i}!' for i in list_1]\n",
    "\n",
    "print(f'{list_1 = }')\n",
    "print(f'{list_2 = }')\n"
   ]
  },
  {
   "cell_type": "markdown",
   "metadata": {},
   "source": [
    "#3"
   ]
  },
  {
   "cell_type": "code",
   "execution_count": null,
   "metadata": {},
   "outputs": [],
   "source": [
    "x = list(range(1,101))\n",
    "print(x)\n",
    "y = [i for i in x if i % 2 == 0]\n",
    "print(y)"
   ]
  },
  {
   "cell_type": "code",
   "execution_count": null,
   "metadata": {},
   "outputs": [],
   "source": [
    "list_1 = ['apple', 'peach', 'pear', 'banon', 'orange']\n",
    "print(list_1)\n",
    "list_3 = [i for i in list_1 if len(i) == 5]\n",
    "\n",
    "print(list_3)"
   ]
  },
  {
   "cell_type": "markdown",
   "metadata": {},
   "source": [
    "# Filhantering"
   ]
  },
  {
   "cell_type": "markdown",
   "metadata": {},
   "source": [
    "Open fil for reading"
   ]
  },
  {
   "cell_type": "code",
   "execution_count": null,
   "metadata": {},
   "outputs": [],
   "source": [
    "file =  open('..\\Data\\hello.txt')\n",
    "content = file.read()\n",
    "print(content)"
   ]
  },
  {
   "cell_type": "markdown",
   "metadata": {},
   "source": [
    "Open file for writing"
   ]
  },
  {
   "cell_type": "code",
   "execution_count": null,
   "metadata": {},
   "outputs": [],
   "source": [
    "file =  open('..\\Data\\hello.txt', 'a')\n",
    "new_content = input('Enter: ')\n",
    "\n",
    "file.write(new_content + '\\n')\n",
    "file.close()\n"
   ]
  },
  {
   "cell_type": "markdown",
   "metadata": {},
   "source": [
    "open"
   ]
  },
  {
   "cell_type": "code",
   "execution_count": null,
   "metadata": {},
   "outputs": [],
   "source": [
    "new_content = input('Enter: ')\n",
    "\n",
    "with open('..\\Data\\hello.txt', 'a') as file:\n",
    "    file.write(new_content + '\\n')"
   ]
  },
  {
   "cell_type": "markdown",
   "metadata": {},
   "source": [
    "# Uppgift filer"
   ]
  },
  {
   "cell_type": "code",
   "execution_count": null,
   "metadata": {},
   "outputs": [],
   "source": [
    "with open('..\\Data\\hello.txt', 'r') as file:\n",
    "    print(file.read())\n",
    "\n",
    "names = []\n",
    "while True:\n",
    "    name = input('Enter a name: ')\n",
    "    if not name:\n",
    "        break\n",
    "    else:\n",
    "        names.append(name)\n",
    "        \n",
    "with open('..\\Data\\hello.txt', 'w') as file:\n",
    "    for i in names:\n",
    "        file.write(i + '\\n')\n",
    "        \n",
    "print(f'{names = }')\n",
    "\n"
   ]
  },
  {
   "cell_type": "markdown",
   "metadata": {},
   "source": [
    "# Try Except"
   ]
  },
  {
   "cell_type": "code",
   "execution_count": null,
   "metadata": {},
   "outputs": [],
   "source": [
    "while True:\n",
    "    try:\n",
    "        num1 = float(input(\"Ange ett tal: \"))\n",
    "        num2 = float(input(\"Ange ett annat tal: \"))\n",
    "        resultat = num1 / num2\n",
    "        print(\"Resultatet av divisionen är:\", resultat)\n",
    "        break  # Avsluta loopen om allt gick bra\n",
    "    except ZeroDivisionError:\n",
    "        print(\"Du kan inte dela med noll. Försök igen.\")\n",
    "    except ValueError:\n",
    "        print(\"Du måste ange ett giltigt tal. Försök igen.\")"
   ]
  },
  {
   "cell_type": "markdown",
   "metadata": {},
   "source": [
    "# **Debugging**\n",
    "Felsökning och rättning av kod."
   ]
  },
  {
   "cell_type": "code",
   "execution_count": null,
   "metadata": {},
   "outputs": [],
   "source": [
    "a = 5\n",
    "b = 10\n",
    "c = a + b\n",
    "\n",
    "print(c)"
   ]
  },
  {
   "cell_type": "markdown",
   "metadata": {},
   "source": [
    "# Uppgift"
   ]
  },
  {
   "cell_type": "code",
   "execution_count": null,
   "metadata": {},
   "outputs": [],
   "source": [
    "x = 'aaa'  \n",
    "\n",
    "if isinstance(x, int):\n",
    "    print(\"x är ett heltal.\")\n",
    "else:\n",
    "    print(\"x är inte ett heltal.\")"
   ]
  },
  {
   "cell_type": "code",
   "execution_count": 1,
   "metadata": {},
   "outputs": [
    {
     "name": "stdout",
     "output_type": "stream",
     "text": [
      "string = '123476543134598'\n",
      "\u001b[0m\u001b[34m1234765431\u001b[0m34598\n",
      "\u001b[0m12\u001b[34m3476543\u001b[0m134598\n",
      "\u001b[0m123\u001b[34m47654\u001b[0m3134598\n",
      "\u001b[0m123476\u001b[34m5431345\u001b[0m98\n",
      "\u001b[0m1234765\u001b[34m43134\u001b[0m598\n",
      "\u001b[0m12347654\u001b[34m313\u001b[0m4598\n"
     ]
    }
   ],
   "source": [
    "from colorama import Fore, Back, Style\n",
    "\n",
    "string = input(\"Please enter a string:\")\n",
    "\n",
    "print(f'{string = }')\n",
    "string_prior = \"\"\n",
    "string_after = \"\"\n",
    "\n",
    "for i, character in enumerate(string):\n",
    "    found = 0\n",
    "    if character.isdigit():\n",
    "        j = i + 1\n",
    "        while(j < len(string)):\n",
    "            if not string[j].isdigit():\n",
    "                break\n",
    "            if string[j] == string[i]:\n",
    "                found = 1\n",
    "                break\n",
    "            j += 1\n",
    "            \n",
    "        if i:\n",
    "            string_prior = string[:i]\n",
    "        if j < len(string):\n",
    "            string_after = string[j + 1:]\n",
    "            \n",
    "    if found == 1:\n",
    "        print(f'{Style.RESET_ALL}{string_prior}{Fore.BLUE}{string[i:j+1]}{Style.RESET_ALL}{string_after}')"
   ]
  },
  {
   "cell_type": "markdown",
   "metadata": {},
   "source": [
    "# Avstånd"
   ]
  },
  {
   "cell_type": "code",
   "execution_count": 1,
   "metadata": {},
   "outputs": [
    {
     "name": "stdout",
     "output_type": "stream",
     "text": [
      "Distance from point (25, 32) to origin (0, 0): 40.61\n",
      "Distance from point (24.2, 31.5) to origin (0, 0): 39.72\n",
      "Distance from point (22, 34) to origin (0, 0): 40.50\n",
      "Distance from point (20.5, 34) to origin (0, 0): 39.70\n"
     ]
    },
    {
     "data": {
      "text/plain": [
       "[<matplotlib.lines.Line2D at 0x1ce73542d50>]"
      ]
     },
     "execution_count": 1,
     "metadata": {},
     "output_type": "execute_result"
    },
    {
     "data": {
      "image/png": "[encoded data removed]",
      "text/plain": [
       "<Figure size 640x480 with 1 Axes>"
      ]
     },
     "metadata": {},
     "output_type": "display_data"
    }
   ],
   "source": [
    "import math\n",
    "\n",
    "def euclidean_distance_to_origin(x, y):\n",
    "    distances = []\n",
    "    for i in range(len(x)):\n",
    "        distance = math.sqrt(x[i]**2 + y[i]**2)\n",
    "        distances.append(distance)\n",
    "    return distances\n",
    "\n",
    "x_test = [25, 24.2, 22, 20.5]\n",
    "y_test = [32, 31.5, 34, 34]\n",
    "\n",
    "distances_to_origin = euclidean_distance_to_origin(x_test, y_test)\n",
    "\n",
    "for i, distance in enumerate(distances_to_origin):\n",
    "    print(f\"Distance from point ({x_test[i]}, {y_test[i]}) to origin (0, 0): {distance:.2f}\")\n",
    "    \n",
    "import matplotlib.pyplot as plt\n",
    "plt.scatter(x_test, y_test, marker = '+',color = 'black', label = 'Test')\n",
    "plt.plot(x_test, y_test)\n"
   ]
  },
  {
   "cell_type": "markdown",
   "metadata": {},
   "source": [
    "# kkkkkkkkkkkkkkkk"
   ]
  },
  {
   "cell_type": "code",
   "execution_count": 5,
   "metadata": {},
   "outputs": [
    {
     "data": {
      "text/plain": [
       "dtype('int32')"
      ]
     },
     "execution_count": 5,
     "metadata": {},
     "output_type": "execute_result"
    }
   ],
   "source": [
    "import numpy as np\n",
    "\n",
    "my_array = np.array([5, 2, 6, 8])\n",
    "\n",
    "my_array.dtype\n",
    "\n"
   ]
  },
  {
   "cell_type": "code",
   "execution_count": null,
   "metadata": {},
   "outputs": [],
   "source": [
    "# ++++++++++++++++++++++++++++++++++  Uppgift_3    +++++++++++++++++++++++++++++++++++++++++\n",
    "\n",
    "import random\n",
    "# Pikach\n",
    "pikachu = list(zip(x_pikachu, y_pikachu))\n",
    "random.shuffle(pikachu)\n",
    "pikachu_50_train = pikachu[:50]\n",
    "pikachu_25_test = pikachu[50:]\n",
    "\n",
    "# Pichu\n",
    "pichu = list(zip(x_pichu, y_pichu))\n",
    "random.shuffle(pichu)\n",
    "pichu_50_train = pichu[:50]\n",
    "pichu_25_test = pichu[50:]\n",
    "\n",
    "training_100 = pikachu_50_train + pichu_50_train\n",
    "test_50 = pikachu_25_test + pichu_25_test\n",
    "\n",
    "print(test_50[0][0])\n",
    "# -------------------------------------------------------------\n",
    "test_dist = []\n",
    "\n",
    "# for j in range(len(test_50)):\n",
    "#     for i in range(len(training_100)):\n",
    "#         d = distance_calc(test_50[j][0], test_50[j][1], training_100[i][0], training_100[i][1])\n",
    "#         test_dist.append(d)\n",
    "#         test_dist.sort()\n",
    "\n",
    "# t_pikachu = []\n",
    "# t_pichu = []\n",
    "\n",
    "\n",
    "# for j in range(len(test_50)):\n",
    "#     for i in range(len(training_100)):\n",
    "#         d_pikachu = distance_calc(test_50[j][0], test_50[j][1], training_100[i][0], training_100[i][1])\n",
    "#         d_pichu = distance_calc(test_50[j][0], test_50[j][1], training_100[i][0], training_100[i][1])\n",
    "        \n",
    "#         if d_pikachu < d_pichu:\n",
    "#             t_pikachu.append('aa')\n",
    "#         elif d_pichu < d_pikachu:\n",
    "#             t_pichu.append('bb')\n",
    "        \n",
    "        \n",
    "\n",
    "\n",
    "# print(f'{len(t_pikachu) = }')\n",
    "# print(f'{len(t_pichu) = }')\n",
    "\n",
    "# print(t_pikachu)\n",
    "\n",
    "\n",
    "\n",
    "\n"
   ]
  }
 ],
 "metadata": {
  "kernelspec": {
   "display_name": "Python 3",
   "language": "python",
   "name": "python3"
  },
  "language_info": {
   "codemirror_mode": {
    "name": "ipython",
    "version": 3
   },
   "file_extension": ".py",
   "mimetype": "text/x-python",
   "name": "python",
   "nbconvert_exporter": "python",
   "pygments_lexer": "ipython3",
   "version": "3.11.5"
  },
  "orig_nbformat": 4
 },
 "nbformat": 4,
 "nbformat_minor": 2
}
