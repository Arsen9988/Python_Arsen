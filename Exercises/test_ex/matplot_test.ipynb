{
 "cells": [
  {
   "cell_type": "code",
   "execution_count": null,
   "metadata": {},
   "outputs": [],
   "source": [
    "import matplotlib.pyplot as plt\n",
    "x = list(range(0, 10))\n",
    "y = list(range(0, 10))\n",
    "\n",
    "plt.plot(x, y)\n"
   ]
  },
  {
   "cell_type": "markdown",
   "metadata": {},
   "source": [
    "## .txt to int in list"
   ]
  },
  {
   "cell_type": "code",
   "execution_count": 35,
   "metadata": {},
   "outputs": [
    {
     "name": "stdout",
     "output_type": "stream",
     "text": [
      "x_test = [25.0, 24.2, 22.0, 20.5]\n",
      "y_test = [32.0, 31.5, 34.0, 34.0]\n"
     ]
    }
   ],
   "source": [
    "\n",
    "\n",
    "with open('..\\\\..\\\\TEST++++++\\\\testpoints.txt', 'r') as file:\n",
    "    next(file)\n",
    "    lines = file.readlines()\n",
    "\n",
    "x_test = []\n",
    "y_test = []\n",
    "for line in lines:\n",
    "    line = line[4:-2]  # Ta bort de första fyra tecknen från varje rad\n",
    "    parts = line.split(', ')\n",
    "    x = float(parts[0])\n",
    "    y = float(parts[1])\n",
    "    x_test.append(x)\n",
    "    y_test.append(y)\n",
    "    \n",
    "print(f'{x_test = }')\n",
    "print(f'{y_test = }')\n"
   ]
  }
 ],
 "metadata": {
  "kernelspec": {
   "display_name": "Python 3",
   "language": "python",
   "name": "python3"
  },
  "language_info": {
   "codemirror_mode": {
    "name": "ipython",
    "version": 3
   },
   "file_extension": ".py",
   "mimetype": "text/x-python",
   "name": "python",
   "nbconvert_exporter": "python",
   "pygments_lexer": "ipython3",
   "version": "3.11.5"
  },
  "orig_nbformat": 4
 },
 "nbformat": 4,
 "nbformat_minor": 2
}
