{
 "cells": [
  {
   "cell_type": "code",
   "execution_count": null,
   "metadata": {},
   "outputs": [],
   "source": [
    "import matplotlib.pyplot as plt\n",
    "x = list(range(0, 10))\n",
    "y = list(range(0, 10))\n",
    "\n",
    "plt.plot(x, y)\n"
   ]
  },
  {
   "cell_type": "markdown",
   "metadata": {},
   "source": [
    "## .txt to int in list"
   ]
  },
  {
   "cell_type": "code",
   "execution_count": 1,
   "metadata": {},
   "outputs": [
    {
     "name": "stdout",
     "output_type": "stream",
     "text": [
      "x_test = [25.0, 24.2, 22.0, 20.5]\n",
      "y_test = [32.0, 31.5, 34.0, 34.0]\n"
     ]
    }
   ],
   "source": [
    "\n",
    "\n",
    "\n",
    "\n",
    "\n",
    "\n",
    "\n",
    "\n",
    "# Medelvärdet\n",
    "\n",
    "# # Avstånd från Pikachu punkter\n",
    "# from_pikachu = [ ]\n",
    "# for j in range(len(x_test)):\n",
    "#     for i in range(len(x_pikachu)):\n",
    "#         d = distance_calc(x_test[j], y_test[j], x_pikachu[i], y_pikachu[i])\n",
    "#         sum_pikachu += d\n",
    "#     from_pikachu.append(sum_pikachu/len(x_pikachu))\n",
    "#     sum_pikachu = 0\n",
    "#     d = 0\n",
    "# print(from_pikachu)\n",
    "\n",
    "# # Avstånd från Pichu punkter\n",
    "# from_pichu = [ ]\n",
    "# for j in range(len(x_test)):\n",
    "#     for i in range(len(x_pichu)):\n",
    "#         d = distance_calc(x_test[j], y_test[j], x_pichu[i], y_pichu[i])\n",
    "#         sum_pichu += d\n",
    "#     from_pichu.append(sum_pichu/len(x_pichu)) \n",
    "#     sum_pichu = 0\n",
    "#     d = 0   \n"
   ]
  },
  {
   "cell_type": "code",
   "execution_count": 107,
   "metadata": {},
   "outputs": [
    {
     "name": "stdout",
     "output_type": "stream",
     "text": [
      "pikachu[0] = (23.63591632187622, 36.46821490673444)\n",
      "pichu[0] = (21.959384499160468, 31.23956701424158)\n"
     ]
    }
   ],
   "source": [
    "x_values = []\n",
    "y_values = []\n",
    "labels = []\n",
    "import random\n",
    "import math\n",
    "def distance_calc(x1, y1, x2, y2):\n",
    "    # Calculate  distance\n",
    "    distance = math.sqrt((x2 - x1)**2 + (y2 - y1)**2)\n",
    "    return distance\n",
    "\n",
    "with open('..\\..\\Labb_2\\data.txt', 'r') as file:\n",
    "    # börja på rad - 2\n",
    "    next(file)\n",
    "    lines = file.readlines()\n",
    "    for line in lines:\n",
    "        values = line.strip().split(',')\n",
    "        x_values.append(float(values[0]))\n",
    "        y_values.append(float(values[1]))\n",
    "        labels.append(int(values[2]))\n",
    "    \n",
    "\n",
    "# Två listor för x- och y-värden baserat på label: 1 || 0   dvs  Pikachu || Pichu\n",
    "x_pikachu = [x_values[i] for i in range(len(labels)) if labels[i] == 1]\n",
    "y_pikachu = [y_values[i] for i in range(len(labels)) if labels[i] == 1]\n",
    "\n",
    "\n",
    "x_pichu = [x_values[i] for i in range(len(labels)) if labels[i] == 0]\n",
    "y_pichu = [y_values[i] for i in range(len(labels)) if labels[i] == 0]\n",
    "\n",
    "pikachu = list(zip(x_pikachu, y_pikachu))\n",
    "print(f'{pikachu[0] = }')\n",
    "\n",
    "random.shuffle(pikachu)\n",
    "\n",
    "pikachu_50_train = pikachu[:50]\n",
    "pikachu_25_test = pikachu[50:]\n",
    "\n",
    "\n",
    "    \n",
    "    \n",
    "    \n",
    "    \n",
    "    \n",
    "    \n",
    "    \n",
    "    \n",
    "\n",
    "\n",
    "\n",
    "\n",
    "pichu = list(zip(x_pichu, y_pichu))\n",
    "print(f'{pichu[0] = }')\n",
    "\n",
    "random.shuffle(pichu)\n",
    "\n",
    "pichu_50_train = pichu[:50]\n",
    "pichu_25_test = pichu[50:]\n",
    "\n",
    "\n"
   ]
  }
 ],
 "metadata": {
  "kernelspec": {
   "display_name": "Python 3",
   "language": "python",
   "name": "python3"
  },
  "language_info": {
   "codemirror_mode": {
    "name": "ipython",
    "version": 3
   },
   "file_extension": ".py",
   "mimetype": "text/x-python",
   "name": "python",
   "nbconvert_exporter": "python",
   "pygments_lexer": "ipython3",
   "version": "3.11.5"
  },
  "orig_nbformat": 4
 },
 "nbformat": 4,
 "nbformat_minor": 2
}
