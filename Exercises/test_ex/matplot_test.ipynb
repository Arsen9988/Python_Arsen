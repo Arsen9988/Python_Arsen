{
 "cells": [
  {
   "cell_type": "code",
   "execution_count": null,
   "metadata": {},
   "outputs": [],
   "source": [
    "import matplotlib.pyplot as plt\n",
    "x = list(range(0, 10))\n",
    "y = list(range(0, 10))\n",
    "\n",
    "plt.plot(x, y)\n"
   ]
  },
  {
   "cell_type": "code",
   "execution_count": null,
   "metadata": {},
   "outputs": [],
   "source": [
    "# class Cat:\n",
    "#     def __init__(self, name, age):\n",
    "#         self.name = name\n",
    "#         self.age = age\n",
    "#     def greet(self, other = None):\n",
    "#         if other is None:\n",
    "#             print(f'Hello, i am {self.name}, and i am {self.age} years old.')\n",
    "#         else:\n",
    "#             if self.age > other.age:\n",
    "#                 print(f'Hi {other.name}, my name is {self.name}, and i am {(self.age - other.age)} years older than you.')\n",
    "#             elif self.age < other.age:\n",
    "#                 print(f'Hi {other.name}, my name is {self.name}, and i am {(other.age - self.age)} years younger than you.')\n",
    "#             else:\n",
    "#                 print(f'Hi {other.name}, my name is {self.name}, and both of us is {self.age} years you.')\n",
    "#     def best_friend(self, others):\n",
    "#         print(f'Hello, i am {self.name}, and my BFF is {others.name}.')\n",
    "        \n",
    "        \n",
    "    \n",
    "\n",
    "# my_cat = Cat(\"Misse\", 3)\n",
    "# my_other_cat = Cat('Kisse', 2)\n",
    "# my_third_cat = Cat('Mjau', 5)\n",
    "# my_fourth_cat = Cat('Jens', 3)\n",
    "\n",
    "# # my_cat.greet()\n",
    "# # my_other_cat.greet()\n",
    "\n",
    "# # my_cat.greet(my_other_cat)\n",
    "\n",
    "# #my_third_cat.greet(my_other_cat)\n",
    "\n",
    "# my_cat.best_friend = my_third_cat\n",
    "# my_third_cat.best_friend = my_cat\n",
    "\n",
    "# cats = [my_cat, my_other_cat, my_third_cat, my_fourth_cat]\n",
    "\n",
    "# for cat in cats:\n",
    "#     cat.print_best_friend()\n",
    "\n",
    "\n",
    "# # My name is Misse, and my best friend is Mjau."
   ]
  },
  {
   "cell_type": "markdown",
   "metadata": {},
   "source": [
    "# OOP - 2"
   ]
  },
  {
   "cell_type": "code",
   "execution_count": null,
   "metadata": {},
   "outputs": [],
   "source": [
    "class Person():\n",
    "    def __init__(self, firstname, lastname):\n",
    "        self.firstname = firstname\n",
    "        self.lastname = lastname    \n",
    "    @property\n",
    "    def age(self):\n",
    "        return self._age\n",
    "    \n",
    "    @age.setter\n",
    "    def age(self, age):\n",
    "        self._age = 0 if age < 0 else age\n",
    "    \n",
    "    \n",
    "\n",
    "per = Person(\"Ars\", \"Forsberg\")\n",
    "per.age = 45\n",
    "print(per.age)"
   ]
  },
  {
   "cell_type": "markdown",
   "metadata": {},
   "source": [
    "# OOP - 3"
   ]
  },
  {
   "cell_type": "code",
   "execution_count": 17,
   "metadata": {},
   "outputs": [
    {
     "data": {
      "text/plain": [
       "50"
      ]
     },
     "execution_count": 17,
     "metadata": {},
     "output_type": "execute_result"
    }
   ],
   "source": [
    "class Cat():\n",
    "    def __init__(self, name, age):\n",
    "        self.name = name\n",
    "        self.age = age\n",
    "    def __str__(self):\n",
    "        return f\"This is {self.name}\"\n",
    "    def __repr__(self):\n",
    "        return f\"Repr: {self.name} \"\n",
    "    def __add__(self, other):\n",
    "        return self.age + other.age\n",
    "\n",
    "cat = Cat(\"Mjau\", 15)\n",
    "cat_2 = Cat(\"Pelle\", 35)\n",
    "\n",
    "cat + cat_2\n"
   ]
  },
  {
   "cell_type": "code",
   "execution_count": 32,
   "metadata": {},
   "outputs": [
    {
     "name": "stdout",
     "output_type": "stream",
     "text": [
      "Pelle_loud is barking: VOFF!\n",
      "Pelle_loud is barking: voff!\n",
      "Pelle_silent is barking: voff!\n",
      "Pelle_silent is barking: VOFF!\n"
     ]
    }
   ],
   "source": [
    "class Animal():\n",
    "    def __init__(self, name):\n",
    "        self.name = name\n",
    "        \n",
    "    def move(self):\n",
    "        print(f'{self.name} is running') \n",
    "        \n",
    "    def __repr__(self):\n",
    "        return f'My name is {self.name}'\n",
    "    \n",
    "class Cat(Animal):\n",
    "    ...\n",
    "    \n",
    "    \n",
    "class Dog(Animal):\n",
    "    def bark(self, is_loud):\n",
    "        if is_loud is True:\n",
    "            print(f'{self.name} is barking: VOFF!')\n",
    "        else: \n",
    "            print(f'{self.name} is barking: voff!')\n",
    "\n",
    "            \n",
    "    \n",
    "\n",
    "class Fish(Animal):\n",
    "    def move(self):\n",
    "        print(f'{self.name} is swimminig')   \n",
    "    \n",
    "    \n",
    "animals = [\n",
    "    Cat('Mjau'),\n",
    "    Dog('Pelle_loud'),\n",
    "    Dog('Pelle_silent'),\n",
    "    Fish('Nemo')\n",
    "]\n",
    "\n",
    "animals[1].bark(True)\n",
    "animals[1].bark(False)\n",
    "\n",
    "animals[2].bark(False)\n",
    "animals[2].bark(True)\n",
    "\n",
    "\n",
    "\n",
    "\n",
    "\n",
    "# for animal in animals:\n",
    "#     print(animal)\n",
    "#     if hasattr(animal, 'bark'):\n",
    "#         animal.bark()\n",
    "#     if type(animal) == Dog:\n",
    "#         animal.bark()\n",
    "#     if isinstance(animal, Dog):\n",
    "#         animal.bark()\n",
    "    \n"
   ]
  }
 ],
 "metadata": {
  "kernelspec": {
   "display_name": "Python 3",
   "language": "python",
   "name": "python3"
  },
  "language_info": {
   "codemirror_mode": {
    "name": "ipython",
    "version": 3
   },
   "file_extension": ".py",
   "mimetype": "text/x-python",
   "name": "python",
   "nbconvert_exporter": "python",
   "pygments_lexer": "ipython3",
   "version": "3.11.5"
  },
  "orig_nbformat": 4
 },
 "nbformat": 4,
 "nbformat_minor": 2
}
