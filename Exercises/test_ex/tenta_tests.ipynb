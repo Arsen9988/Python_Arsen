{
 "cells": [
  {
   "cell_type": "code",
   "execution_count": null,
   "metadata": {},
   "outputs": [],
   "source": [
    "import random\n",
    "väder = [\"soligt\", \"molnigt\", \"regnigt\", \"snöigt\", \"stormigt\"]\n",
    "count = [0] * 5\n",
    "\n",
    "for i in (range(365)):\n",
    "    weather = random.choice(väder)\n",
    "    weathr_index = väder.index(weather)\n",
    "    count[weathr_index] +=1\n",
    "\n",
    "for x, y in enumerate(väder):\n",
    "    print(f'{y}: {count[x]}')"
   ]
  },
  {
   "cell_type": "code",
   "execution_count": null,
   "metadata": {},
   "outputs": [],
   "source": [
    "def medel(my_list):\n",
    "    medel = sum(my_list)/len(my_list)\n",
    "    return medel\n",
    "\n",
    "\n",
    "a_lista = []\n",
    "\n",
    "while True:\n",
    "    try:\n",
    "        value = float(input('Mata in: '))\n",
    "        a_lista.append(value)\n",
    "    except ValueError:\n",
    "        break\n",
    "\n",
    "print(a_lista)\n",
    "print(medel(a_lista))\n",
    "\n",
    "    "
   ]
  },
  {
   "cell_type": "code",
   "execution_count": null,
   "metadata": {},
   "outputs": [],
   "source": [
    "n = 7\n",
    "for y in range(n):\n",
    "    for x in range(n):\n",
    "        print('O ' if y % 2 == 1 and x % 2 == 1 else 'x ', end='')\n",
    "    print()"
   ]
  },
  {
   "cell_type": "code",
   "execution_count": null,
   "metadata": {},
   "outputs": [],
   "source": [
    "class Litteratur:\n",
    "    def __init__(self, titel):\n",
    "        self.titel = titel\n",
    "    def __str__(self):\n",
    "        return f'Litteratur: \"{self.titel}\"'\n",
    "    \n",
    "class Bok(Litteratur):\n",
    "    def __str__(self):\n",
    "        return f'Bok: \"{self.titel}\"'\n",
    "        \n",
    "class Tidning(Litteratur):\n",
    "    def __str__(self):\n",
    "        return f'Tidning: \"{self.titel}\"'\n",
    "        \n",
    "class Tidskrift(Litteratur):\n",
    "    def __str__(self):\n",
    "        return f'Tidskrift: \"{self.titel}\"'\n",
    "    \n",
    "b = Bok('Min bok')\n",
    "t = Tidskrift('Min Tidskrift')\n",
    "ti = Tidning('Tidning')\n"
   ]
  },
  {
   "cell_type": "code",
   "execution_count": null,
   "metadata": {},
   "outputs": [],
   "source": [
    "class Bibliotekarie:\n",
    "    def __init__(self, name, böcker=[], tidningar=[], tidskrifter=[]):\n",
    "        self.name = name\n",
    "        self.böcker = [Bok(bok) for bok in böcker]\n",
    "        self.tidningar = [Tidning(tid) for tid in tidningar]\n",
    "        self.tidskrifter = [Tidskrift(tids) for tids in tidskrifter]\n",
    "        \n",
    "    def __str__(self):\n",
    "        txt = self.name + ' owns:\\n'\n",
    "        if self.böcker:\n",
    "            txt += str([str(bok) for bok in self.böcker]) +'\\n'\n",
    "        if self.tidningar:\n",
    "            txt += str([str(tid) for tid in self.tidningar])+'\\n'\n",
    "        if self.tidskrifter:\n",
    "            txt += str([str(tidskr) for tidskr in self.tidskrifter])+'\\n'\n",
    "\n",
    "        return txt\n",
    "    \n",
    "bibl = Bibliotekarie('Erik', ['Bok1', 'Bok2'], ['tid', 'tiddd'], ['skrift', 'skriftttt'])\n",
    "print(bibl)"
   ]
  },
  {
   "cell_type": "markdown",
   "metadata": {},
   "source": [
    "# Project Euler - 1"
   ]
  },
  {
   "cell_type": "code",
   "execution_count": 19,
   "metadata": {},
   "outputs": [
    {
     "name": "stdout",
     "output_type": "stream",
     "text": [
      "233168\n"
     ]
    }
   ],
   "source": [
    "my_list = list(range(1, 1000))\n",
    "new_list = []\n",
    "for i in my_list:\n",
    "    if i % 3 == 0 or i % 5 == 0:\n",
    "        new_list.append(i)\n",
    "\n",
    "print(sum(new_list)) # 233168"
   ]
  },
  {
   "cell_type": "markdown",
   "metadata": {},
   "source": [
    "### 2"
   ]
  },
  {
   "cell_type": "code",
   "execution_count": 23,
   "metadata": {},
   "outputs": [
    {
     "name": "stdout",
     "output_type": "stream",
     "text": [
      "[1, 2, 3, 5, 8, 13, 21, 34, 55, 89, 144, 233, 377, 610, 987, 1597, 2584, 4181, 6765, 10946, 17711, 28657, 46368, 75025, 121393, 196418, 317811, 514229, 832040, 1346269, 2178309, 3524578]\n",
      "32\n",
      "4613732\n"
     ]
    }
   ],
   "source": [
    "\n",
    "my_list = [1, 2]\n",
    "new = 0\n",
    "sum_evens = 0\n",
    "\n",
    "while True:\n",
    "    new = my_list[-1] + my_list[-2]\n",
    "    if new > 4_000_000:\n",
    "        break\n",
    "    my_list.append(new)\n",
    "    \n",
    "for i in my_list:\n",
    "    if i % 2 == 0:\n",
    "        sum_evens += i\n",
    "\n",
    "\n",
    "print(my_list)\n",
    "print(len(my_list))       \n",
    "print(sum_evens) # 4613732"
   ]
  },
  {
   "cell_type": "markdown",
   "metadata": {},
   "source": [
    "### 3 ??????????"
   ]
  },
  {
   "cell_type": "code",
   "execution_count": 98,
   "metadata": {},
   "outputs": [
    {
     "name": "stdout",
     "output_type": "stream",
     "text": [
      "1 5 7 "
     ]
    }
   ],
   "source": [
    "tal = 13195\n",
    "\n",
    "for i in range(1, 12):\n",
    "    div = tal / i\n",
    "    if div % 1 == 0:\n",
    "        if i % 2 == 1:\n",
    "            print(i, end=' ')\n",
    "        "
   ]
  },
  {
   "cell_type": "markdown",
   "metadata": {},
   "source": [
    "### 4"
   ]
  },
  {
   "cell_type": "code",
   "execution_count": 99,
   "metadata": {},
   "outputs": [
    {
     "name": "stdout",
     "output_type": "stream",
     "text": [
      "(993, 913)\n",
      "906609\n"
     ]
    }
   ],
   "source": [
    "def is_palindrome(n):\n",
    "    return str(n) == str(n)[::-1]\n",
    "    \n",
    "\n",
    "product = 0\n",
    "largest_p = 0\n",
    "look = []\n",
    "for y in range(10, 1000):\n",
    "    for x in range(10, 1000):\n",
    "        product = y * x\n",
    "        if is_palindrome(product) and product > largest_p:\n",
    "            largest_p = product\n",
    "            factors = (x, y)\n",
    "\n",
    "\n",
    "print(factors) # (993, 913)     \n",
    "print(largest_p) # 906609\n"
   ]
  }
 ],
 "metadata": {
  "kernelspec": {
   "display_name": "Python 3",
   "language": "python",
   "name": "python3"
  },
  "language_info": {
   "codemirror_mode": {
    "name": "ipython",
    "version": 3
   },
   "file_extension": ".py",
   "mimetype": "text/x-python",
   "name": "python",
   "nbconvert_exporter": "python",
   "pygments_lexer": "ipython3",
   "version": "3.11.5"
  }
 },
 "nbformat": 4,
 "nbformat_minor": 2
}
