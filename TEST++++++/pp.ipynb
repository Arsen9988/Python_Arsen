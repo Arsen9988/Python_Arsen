{
 "cells": [
  {
   "cell_type": "code",
   "execution_count": 28,
   "metadata": {},
   "outputs": [
    {
     "name": "stdout",
     "output_type": "stream",
     "text": [
      "sum/len(x_pikachu) = 16.44013596757264\n"
     ]
    }
   ],
   "source": [
    "# ################################  Efter   Testpunkter\n",
    "\n",
    "# # Plotta Pichu och Pikachu\n",
    "# plt.scatter(x_pichu, y_pichu, marker = 'v', alpha = 0.3, color = 'orange', label = 'Pichu')\n",
    "# plt.scatter(x_pikachu, y_pikachu, marker = '^', alpha = 0.3, color = 'green', label = 'Pikachu')\n",
    "# # Plotta testpunkter\n",
    "# plt.scatter(x_test, y_test, s = 100,  marker = '*', color = 'red',)\n",
    "\n",
    "\n",
    "# plt.xlabel('Width (cm)')\n",
    "# plt.ylabel('Height (cm)')\n",
    "# plt.title('Labb - 2')\n",
    "# plt.grid()\n",
    "\n",
    "# plt.legend(['Pichu', 'Pikachu', 'Test'])\n",
    "# plt.show()\n",
    "\n",
    "values = []\n",
    "x_values = []\n",
    "y_values = []\n",
    "labels = []\n",
    "\n",
    "with open('data.txt', 'r') as file:\n",
    "    # börja på rad - 2\n",
    "    next(file)\n",
    "    for line in file:\n",
    "        values = line.strip().split(',')\n",
    "        x_values.append(float(values[0]))\n",
    "        y_values.append(float(values[1]))\n",
    "        labels.append(int(values[2]))\n",
    "\n",
    "\n",
    "import matplotlib.pyplot as plt\n",
    "\n",
    "# två listor för x- och y-värden baserat på label: 0 || 1\n",
    "x_pichu = [x_values[i] for i in range(len(labels)) if labels[i] == 0]\n",
    "y_pichu = [y_values[i] for i in range(len(labels)) if labels[i] == 0]\n",
    "\n",
    "x_pikachu = [x_values[i] for i in range(len(labels)) if labels[i] == 1]\n",
    "y_pikachu = [y_values[i] for i in range(len(labels)) if labels[i] == 1]\n",
    "\n",
    "# Testpunkter\n",
    "x_test = [25, 24.2, 22, 20.5]\n",
    "y_test = [32, 31.5, 34, 34]\n",
    "\n",
    "\n",
    "\n",
    "# Distance\n",
    "import math\n",
    "def distance_calc(x1, y1, x2, y2):\n",
    "    # Calculate  distance\n",
    "    distance = math.sqrt((x2 - x1)**2 + (y2 - y1)**2)\n",
    "    return distance\n",
    "\n",
    "\n",
    "\n",
    "# sum = 0 \n",
    "# d = 0\n",
    "# for i in range(len(x_pichu)):\n",
    "#     d = distance_calc(x_test[3], y_test[3], x_pichu[i], y_pichu[i])\n",
    "#     sum = sum + d\n",
    "\n",
    "# print(f'{sum/len(x_pichu) = }')\n"
   ]
  }
 ],
 "metadata": {
  "kernelspec": {
   "display_name": "Python 3",
   "language": "python",
   "name": "python3"
  },
  "language_info": {
   "codemirror_mode": {
    "name": "ipython",
    "version": 3
   },
   "file_extension": ".py",
   "mimetype": "text/x-python",
   "name": "python",
   "nbconvert_exporter": "python",
   "pygments_lexer": "ipython3",
   "version": "3.11.5"
  },
  "orig_nbformat": 4
 },
 "nbformat": 4,
 "nbformat_minor": 2
}
