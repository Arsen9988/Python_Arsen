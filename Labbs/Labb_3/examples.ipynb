{
 "cells": [
  {
   "cell_type": "code",
   "execution_count": null,
   "metadata": {},
   "outputs": [],
   "source": [
    "from my_labb_3 import Shapes, Circle, Rectangle\n",
    "import matplotlib.pyplot as plt\n",
    "import math\n",
    "\n",
    "rectangle_1 = Rectangle(0, 0, 4, 2)\n",
    "print(rectangle_1)\n",
    "circle_1 = Circle(0, 0, 1)\n",
    "print(circle_1)\n",
    "# more details\n",
    "print('')\n",
    "print(rectangle_1.__repr__())\n",
    "print(circle_1.__repr__())"
   ]
  },
  {
   "cell_type": "markdown",
   "metadata": {},
   "source": [
    "### Copair figures"
   ]
  },
  {
   "cell_type": "code",
   "execution_count": null,
   "metadata": {},
   "outputs": [],
   "source": [
    "print(rectangle_1 == circle_1)\n",
    "print(rectangle_1 < circle_1)\n",
    "print(rectangle_1 > circle_1)\n",
    "print(rectangle_1 <= circle_1)\n",
    "print(rectangle_1 >= circle_1)"
   ]
  },
  {
   "cell_type": "markdown",
   "metadata": {},
   "source": [
    "### Unit Circle and square"
   ]
  },
  {
   "cell_type": "code",
   "execution_count": null,
   "metadata": {},
   "outputs": [],
   "source": [
    "# Rectangle\n",
    "print(rectangle_1.is_square()) # False width = 4 height = 2\n",
    "# New rectangle(square) with sides 5\n",
    "rectangle_2 = Rectangle(0, 0, 10, 10) # True\n",
    "print(rectangle_2.is_square())"
   ]
  },
  {
   "cell_type": "code",
   "execution_count": null,
   "metadata": {},
   "outputs": [],
   "source": [
    "# Circle\n",
    "print(circle_1.is_unit_circle()) #True\n",
    "# New circle that is not unit circle\n",
    "circle_2 = Circle(0, 0, 3)\n",
    "print(circle_2.is_unit_circle()) #False"
   ]
  },
  {
   "cell_type": "markdown",
   "metadata": {},
   "source": [
    "### Rectangle plt"
   ]
  },
  {
   "cell_type": "code",
   "execution_count": null,
   "metadata": {},
   "outputs": [],
   "source": [
    "print(rectangle_1)\n",
    "print(rectangle_1.is_inside(-1, 0))\n",
    "print(rectangle_1.is_inside(4, 2))\n",
    "\n",
    "from matplotlib.patches import Rectangle\n",
    "# Makes a figure\n",
    "fig, ax = plt.subplots()\n",
    "# Extracs rectangles properties\n",
    "center_x = rectangle_1.x\n",
    "center_y = rectangle_1.y\n",
    "width = rectangle_1._width\n",
    "height = rectangle_1._height\n",
    "# Makes a rectangle with Matplotlib\n",
    "rectangle = Rectangle((center_x - width/2, center_y - height/2), width, height, edgecolor='b', facecolor='none')\n",
    "ax.add_patch(rectangle)\n",
    "# Mark the center point\n",
    "ax.plot(center_x, center_y, 'ro')\n",
    "# Axis\n",
    "ax.set_xlim(center_x - width - 1, center_x + width + 1)\n",
    "ax.set_ylim(center_y - height - 1, center_y + height + 1)\n",
    "# Show\n",
    "plt.gca().set_aspect('equal', adjustable='box')  # För att få en rektangel i rätt proportion\n",
    "plt.show()"
   ]
  },
  {
   "cell_type": "markdown",
   "metadata": {},
   "source": [
    "### Changing \"rectangle_1\" center points from (0, 0) to (100, -100) with help av translate() method."
   ]
  },
  {
   "cell_type": "code",
   "execution_count": null,
   "metadata": {},
   "outputs": [],
   "source": [
    "rectangle_1.translate(100, -100)\n",
    "print(rectangle_1) # print rectaangle_1 with new center points\n",
    "\n",
    "from matplotlib.patches import Rectangle\n",
    "# Makes a figure\n",
    "fig, ax = plt.subplots()\n",
    "# Extracs rectangles properties\n",
    "center_x = rectangle_1.x\n",
    "center_y = rectangle_1.y\n",
    "width = rectangle_1._width\n",
    "height = rectangle_1._height\n",
    "# Makes a rectangle with Matplotlib\n",
    "rectangle = Rectangle((center_x - width/2, center_y - height/2), width, height, edgecolor='b', facecolor='none')\n",
    "ax.add_patch(rectangle)\n",
    "# Mark the center point\n",
    "ax.plot(center_x, center_y, 'ro')\n",
    "# Axis\n",
    "ax.set_xlim(center_x - width - 1, center_x + width + 1)\n",
    "ax.set_ylim(center_y - height - 1, center_y + height + 1)\n",
    "# Show\n",
    "plt.gca().set_aspect('equal', adjustable='box')  \n",
    "plt.show()"
   ]
  },
  {
   "cell_type": "markdown",
   "metadata": {},
   "source": [
    "### Circle plt"
   ]
  },
  {
   "cell_type": "code",
   "execution_count": null,
   "metadata": {},
   "outputs": [],
   "source": [
    "print(circle_1)\n",
    "print(circle_1.is_inside(-0.5, -0.5))\n",
    "print(circle_1.is_inside(1, 1))\n",
    "\n",
    "from matplotlib.patches import Circle\n",
    "# Makes a figure\n",
    "fig, ax = plt.subplots()\n",
    "# Extracs circle_1 properties\n",
    "center_x = circle_1.x\n",
    "center_y = circle_1.y\n",
    "radius = circle_1._radius\n",
    "# Makes a rectangle with Matplotlib\n",
    "circle = Circle((center_x, center_y), radius, edgecolor='b', facecolor='none')\n",
    "ax.add_patch(circle)\n",
    "# Mark the center point\n",
    "ax.plot(center_x, center_y, 'ro')\n",
    "# Axis\n",
    "ax.set_xlim(center_x - radius - 1, center_x + radius + 1)\n",
    "ax.set_ylim(center_y - radius - 1, center_y + radius + 1)\n",
    "# Show\n",
    "plt.gca().set_aspect('equal', adjustable='box')  \n",
    "plt.show()"
   ]
  },
  {
   "cell_type": "markdown",
   "metadata": {},
   "source": [
    "### Changing \"circlee_1\" center points from (0, 0) to (-10, -10) with help av translate() method."
   ]
  },
  {
   "cell_type": "code",
   "execution_count": null,
   "metadata": {},
   "outputs": [],
   "source": [
    "circle_1.translate(-10, -10)\n",
    "print(circle_1)  # print circle_1 with new center points\n",
    "\n",
    "from matplotlib.patches import Circle\n",
    "# Makes a figure\n",
    "fig, ax = plt.subplots()\n",
    "# Extracs circle_1 properties\n",
    "center_x = circle_1.x\n",
    "center_y = circle_1.y\n",
    "radius = circle_1._radius\n",
    "# Makes a rectangle with Matplotlib\n",
    "circle = Circle((center_x, center_y), radius, edgecolor='b', facecolor='none')\n",
    "ax.add_patch(circle)\n",
    "# Mark the center point\n",
    "ax.plot(center_x, center_y, 'ro')\n",
    "# Axis\n",
    "ax.set_xlim(center_x - radius - 1, center_x + radius + 1)\n",
    "ax.set_ylim(center_y - radius - 1, center_y + radius + 1)\n",
    "# Show\n",
    "plt.gca().set_aspect('equal', adjustable='box')  \n",
    "plt.show()"
   ]
  }
 ],
 "metadata": {
  "kernelspec": {
   "display_name": "Python 3",
   "language": "python",
   "name": "python3"
  },
  "language_info": {
   "codemirror_mode": {
    "name": "ipython",
    "version": 3
   },
   "file_extension": ".py",
   "mimetype": "text/x-python",
   "name": "python",
   "nbconvert_exporter": "python",
   "pygments_lexer": "ipython3",
   "version": "3.11.5"
  }
 },
 "nbformat": 4,
 "nbformat_minor": 2
}
